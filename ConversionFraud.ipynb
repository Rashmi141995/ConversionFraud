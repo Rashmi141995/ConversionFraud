{
 "cells": [
  {
   "cell_type": "markdown",
   "metadata": {},
   "source": [
    "<font size=\"4\"><font color='Blue'>**Import Libraries**</font>"
   ]
  },
  {
   "cell_type": "code",
   "execution_count": 49,
   "metadata": {},
   "outputs": [],
   "source": [
    "import pandas as pd\n",
    "import numpy as np\n",
    "from sklearn.preprocessing import LabelEncoder\n",
    "from sklearn.metrics import confusion_matrix, accuracy_score, classification_report\n",
    "from sklearn.preprocessing import MinMaxScaler\n",
    "from sklearn.model_selection import train_test_split\n",
    "from sklearn.ensemble import GradientBoostingClassifier\n",
    "from mlxtend.plotting import plot_decision_regions, plot_confusion_matrix"
   ]
  },
  {
   "cell_type": "markdown",
   "metadata": {},
   "source": [
    "<font size=\"4\"><font color='Blue'>**Import Datasets**</font>"
   ]
  },
  {
   "cell_type": "code",
   "execution_count": 50,
   "metadata": {},
   "outputs": [
    {
     "name": "stderr",
     "output_type": "stream",
     "text": [
      "C:\\Users\\adhit\\anaconda3\\lib\\site-packages\\IPython\\core\\interactiveshell.py:3063: DtypeWarning: Columns (22,24,25,26,29,30,31,32,33,34,46,47,48,49,50,51,52,53,54) have mixed types.Specify dtype option on import or set low_memory=False.\n",
      "  interactivity=interactivity, compiler=compiler, result=result)\n"
     ]
    }
   ],
   "source": [
    "#Import the conversion traning and clicklog datasets\n",
    "training_df = pd.read_csv ('Training Data.csv')\n",
    "clicklog_df = pd.read_csv ('click_log.csv')"
   ]
  },
  {
   "cell_type": "markdown",
   "metadata": {},
   "source": [
    "<font size=\"4\"><font color='Blue'>**Merge Conversion Training and Click log datasets**</font>"
   ]
  },
  {
   "cell_type": "code",
   "execution_count": 51,
   "metadata": {},
   "outputs": [],
   "source": [
    "clicklog_train = pd.merge(training_df, clicklog_df, left_on=['imprid_cr'], right_on = ['imprId'], how = 'inner')"
   ]
  },
  {
   "cell_type": "markdown",
   "metadata": {},
   "source": [
    "<font size=\"4\"><font color='Blue'>**Data Preprocessing & Feature Engineering**</font>"
   ]
  },
  {
   "cell_type": "code",
   "execution_count": 52,
   "metadata": {},
   "outputs": [],
   "source": [
    "# Identify essesntial fields required for modelling\n",
    "essential_train = ['clientid_cr', 'clmbuserid_cr', 'imprid_cr', 'pubclientid_cr','clickIp', 'siteId_cr', 'goalid_cr', \n",
    "               'cityId_cr', 'stateId_cr', 'countryDimId_cr', 'browserId_cr', 'adslotdimid_cr', 'ispDimId_cr', \n",
    "                  'devTypeDimId', 'osVerDimId_cr', 'conversion_fraud']\n",
    "\n",
    "clicklog_train = clicklog_train[essential_train]"
   ]
  },
  {
   "cell_type": "code",
   "execution_count": 53,
   "metadata": {
    "scrolled": true
   },
   "outputs": [],
   "source": [
    "# Remove NULL values\n",
    "clicklog_train['devTypeDimId'] = clicklog_train['devTypeDimId'].fillna (0.0)\n",
    "clicklog_train['clickIp'] = clicklog_train['clickIp'].astype('str')"
   ]
  },
  {
   "cell_type": "code",
   "execution_count": 54,
   "metadata": {},
   "outputs": [],
   "source": [
    "# Label encoding of categorical columns\n",
    "label_encoder = LabelEncoder()\n",
    "#,'imprid_cr','clickIp'\n",
    "for cols in ['clmbuserid_cr', 'imprid_cr', 'clickIp', 'conversion_fraud']:    \n",
    "    # Encode labels in column 'species'.\n",
    "    clicklog_train[cols]= label_encoder.fit_transform(clicklog_train[cols])  "
   ]
  },
  {
   "cell_type": "code",
   "execution_count": 55,
   "metadata": {},
   "outputs": [],
   "source": [
    "#Normalize the data before modelling\n",
    "min_max_scaler = MinMaxScaler()\n",
    "# apply normalization techniques\n",
    "columns = ['clientid_cr', 'clmbuserid_cr', 'imprid_cr', 'pubclientid_cr','clickIp', 'siteId_cr', 'goalid_cr', \n",
    "               'cityId_cr', 'stateId_cr', 'countryDimId_cr', 'browserId_cr', 'adslotdimid_cr', 'ispDimId_cr', \n",
    "                  'devTypeDimId', 'osVerDimId_cr']\n",
    "for col in columns:\n",
    "    clicklog_train[col] = MinMaxScaler().fit_transform(np.array(clicklog_train[col]).reshape(-1,1))"
   ]
  },
  {
   "cell_type": "code",
   "execution_count": 56,
   "metadata": {},
   "outputs": [],
   "source": [
    "# Identify the features and label\n",
    "y = clicklog_train['conversion_fraud']\n",
    "X = clicklog_train.drop(['conversion_fraud'], axis=1)"
   ]
  },
  {
   "cell_type": "code",
   "execution_count": 57,
   "metadata": {},
   "outputs": [],
   "source": [
    "# Prepare the Conversion test data similar to Training data\n",
    "test_df = pd.read_csv ('Test Data.csv')\n",
    "clicklog_test = pd.merge(test_df, clicklog_df, left_on=['imprid_cr'], right_on = ['imprId'], how = 'left')\n",
    "essential_test = ['record_id', 'clientid_cr', 'clmbuserid_cr', 'imprid_cr', 'pubclientid_cr','clickIp', 'siteId_cr', 'goalid_cr', \n",
    "               'cityId_cr', 'stateId_cr', 'countryDimId_cr', 'browserId_cr', 'adslotdimid_cr', 'ispDimId_cr', \n",
    "                  'devTypeDimId', 'osVerDimId_cr']\n",
    "\n",
    "clicklog_test = clicklog_test[essential_test]\n",
    "\n",
    "clicklog_test['devTypeDimId'] = clicklog_test['devTypeDimId'].fillna (0.0)\n",
    "\n",
    "pd.options.display.max_rows = 200\n",
    "\n",
    "clicklog_test['clickIp'] = clicklog_test['clickIp'].fillna (0)\n",
    "\n",
    "clicklog_test['clickIp'] = clicklog_test['clickIp'].replace([144.0, 145.0,433.0],[144, 145, 433])\n",
    "\n",
    "#clicklog_test['clickIp'] = clicklog_test['clickIp'].replace([0, 144, 145, 433, 423, 425, 'nan'],['0', '144', '145', '433', '423', '425', '0'])\n",
    "\n",
    "clicklog_test['clickIp'] = clicklog_test['clickIp'].astype('str')\n",
    "\n",
    "label_encoder = LabelEncoder()\n",
    "#,'imprid_cr','clickIp'\n",
    "for cols in ['clmbuserid_cr', 'imprid_cr', 'clickIp']:    \n",
    "    # Encode labels in column 'species'.\n",
    "    clicklog_test[cols]= label_encoder.fit_transform(clicklog_test[cols])\n",
    "    \n",
    "clicklog_test = clicklog_test.drop_duplicates(subset = ['record_id'])\n"
   ]
  },
  {
   "cell_type": "code",
   "execution_count": 58,
   "metadata": {},
   "outputs": [
    {
     "name": "stdout",
     "output_type": "stream",
     "text": [
      "Mean ROC AUC: 0.986\n"
     ]
    }
   ],
   "source": [
    "# Gradient boosing ensemble roc_auc \n",
    "from numpy import mean\n",
    "from sklearn.datasets import make_classification\n",
    "from sklearn.model_selection import cross_val_score\n",
    "from sklearn.model_selection import RepeatedStratifiedKFold\n",
    "from imblearn.ensemble import EasyEnsembleClassifier\n",
    "from sklearn.ensemble import GradientBoostingClassifier\n",
    "\n",
    "model = GradientBoostingClassifier(n_estimators=50, max_depth=6, random_state=0)\n",
    "# define evaluation procedure\n",
    "cv = RepeatedStratifiedKFold(n_splits=10, n_repeats=3, random_state=1)\n",
    "# evaluate model\n",
    "scores = cross_val_score(model, X, y, scoring='roc_auc', cv=cv, n_jobs=-1)\n",
    "# summarize performance\n",
    "print('Mean ROC AUC: %.3f' % mean(scores))"
   ]
  },
  {
   "cell_type": "markdown",
   "metadata": {},
   "source": [
    "<font size=\"4\"><font color='Blue'>**Model to predict the Fraud**</font>"
   ]
  },
  {
   "cell_type": "code",
   "execution_count": 59,
   "metadata": {},
   "outputs": [
    {
     "name": "stdout",
     "output_type": "stream",
     "text": [
      "              precision    recall  f1-score   support\n",
      "\n",
      "           0       0.99      0.99      0.99       180\n",
      "           1       0.98      0.95      0.97        44\n",
      "\n",
      "    accuracy                           0.99       224\n",
      "   macro avg       0.98      0.97      0.98       224\n",
      "weighted avg       0.99      0.99      0.99       224\n",
      "\n",
      "Confusion Matrix Gradient Boosting:\n",
      "[[179   1]\n",
      " [  2  42]]\n"
     ]
    },
    {
     "data": {
      "text/plain": [
       "(<Figure size 432x288 with 1 Axes>,\n",
       " <matplotlib.axes._subplots.AxesSubplot at 0x266253e3548>)"
      ]
     },
     "execution_count": 59,
     "metadata": {},
     "output_type": "execute_result"
    },
    {
     "data": {
      "image/png": "[encoded data removed]",
      "text/plain": [
       "<Figure size 432x288 with 1 Axes>"
      ]
     },
     "metadata": {
      "needs_background": "light"
     },
     "output_type": "display_data"
    }
   ],
   "source": [
    "# dividing X, y into train and test data\n",
    "X_train, X_test, y_train, y_test = train_test_split(X, y, random_state = 0)\n",
    "\n",
    "model = GradientBoostingClassifier(n_estimators=50, max_depth=6, random_state=0).fit(X_train, y_train)\n",
    "y_pred = model.predict(X_test)\n",
    "\n",
    "# Calculate accuracy\n",
    "acc = accuracy_score(y_test, y_pred)\n",
    "print(classification_report(y_test, y_pred))\n",
    "\n",
    "results = confusion_matrix(y_test, y_pred)\n",
    "print (\"Confusion Matrix Gradient Boosting:\")\n",
    "print (results)\n",
    "plot_confusion_matrix(results)"
   ]
  },
  {
   "cell_type": "markdown",
   "metadata": {},
   "source": [
    "<font size=\"4\"><font color='Blue'>**Sample Submission CSV**</font>"
   ]
  },
  {
   "cell_type": "code",
   "execution_count": 60,
   "metadata": {},
   "outputs": [],
   "source": [
    "# Get the sample submission csv based on the Test Data\n",
    "prediction=np.where(model.predict(clicklog_test.drop(['record_id'],1))==1,\"TRUE\",\"FALSE\")\n",
    "\n",
    "submission_columbia=pd.DataFrame(list(zip(clicklog_test['record_id'],list(prediction))),\n",
    "                       columns=['Record ID','Fraud Conversion'])\n",
    "submission_columbia.to_csv('sample_submission.csv',index=False)"
   ]
  },
  {
   "cell_type": "code",
   "execution_count": 61,
   "metadata": {},
   "outputs": [
    {
     "data": {
      "text/html": [
       "<div>\n",
       "<style scoped>\n",
       "    .dataframe tbody tr th:only-of-type {\n",
       "        vertical-align: middle;\n",
       "    }\n",
       "\n",
       "    .dataframe tbody tr th {\n",
       "        vertical-align: top;\n",
       "    }\n",
       "\n",
       "    .dataframe thead th {\n",
       "        text-align: right;\n",
       "    }\n",
       "</style>\n",
       "<table border=\"1\" class=\"dataframe\">\n",
       "  <thead>\n",
       "    <tr style=\"text-align: right;\">\n",
       "      <th></th>\n",
       "      <th>Actual Condition</th>\n",
       "      <th>Predicted Condition</th>\n",
       "      <th>Diff</th>\n",
       "    </tr>\n",
       "  </thead>\n",
       "  <tbody>\n",
       "    <tr>\n",
       "      <th>142</th>\n",
       "      <td>1</td>\n",
       "      <td>0</td>\n",
       "      <td>1</td>\n",
       "    </tr>\n",
       "    <tr>\n",
       "      <th>141</th>\n",
       "      <td>1</td>\n",
       "      <td>0</td>\n",
       "      <td>1</td>\n",
       "    </tr>\n",
       "    <tr>\n",
       "      <th>350</th>\n",
       "      <td>0</td>\n",
       "      <td>1</td>\n",
       "      <td>-1</td>\n",
       "    </tr>\n",
       "  </tbody>\n",
       "</table>\n",
       "</div>"
      ],
      "text/plain": [
       "     Actual Condition  Predicted Condition  Diff\n",
       "142                 1                    0     1\n",
       "141                 1                    0     1\n",
       "350                 0                    1    -1"
      ]
     },
     "execution_count": 61,
     "metadata": {},
     "output_type": "execute_result"
    }
   ],
   "source": [
    "#Show the records where the actual did not match the predicted\n",
    "df_grad = pd.DataFrame({'Actual Condition': y_test, 'Predicted Condition': y_pred, 'Diff': y_test - y_pred})\n",
    "df_grad[df_grad.Diff != 0]"
   ]
  },
  {
   "cell_type": "markdown",
   "metadata": {},
   "source": [
    "<font size=\"4\"><font color='Blue'>**Print ACCURACY**</font>"
   ]
  },
  {
   "cell_type": "code",
   "execution_count": 62,
   "metadata": {},
   "outputs": [
    {
     "name": "stdout",
     "output_type": "stream",
     "text": [
      "Accuracy:  99.0\n"
     ]
    }
   ],
   "source": [
    "print ('Accuracy: ', round(acc, 2)*100)"
   ]
  }
 ],
 "metadata": {
  "kernelspec": {
   "display_name": "Python 3",
   "language": "python",
   "name": "python3"
  },
  "language_info": {
   "codemirror_mode": {
    "name": "ipython",
    "version": 3
   },
   "file_extension": ".py",
   "mimetype": "text/x-python",
   "name": "python",
   "nbconvert_exporter": "python",
   "pygments_lexer": "ipython3",
   "version": "3.7.6"
  }
 },
 "nbformat": 4,
 "nbformat_minor": 4
}
